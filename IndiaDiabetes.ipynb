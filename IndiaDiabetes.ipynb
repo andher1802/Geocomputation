{
  "nbformat": 4,
  "nbformat_minor": 0,
  "metadata": {
    "colab": {
      "name": "IndiaDiabetes.ipynb",
      "provenance": [],
      "authorship_tag": "ABX9TyM3X8G9SJ/SBw8giDV/vNX6",
      "include_colab_link": true
    },
    "kernelspec": {
      "name": "python3",
      "display_name": "Python 3"
    }
  },
  "cells": [
    {
      "cell_type": "markdown",
      "metadata": {
        "id": "view-in-github",
        "colab_type": "text"
      },
      "source": [
        "<a href=\"https://colab.research.google.com/github/andher1802/Geocomputation/blob/master/IndiaDiabetes.ipynb\" target=\"_parent\"><img src=\"https://colab.research.google.com/assets/colab-badge.svg\" alt=\"Open In Colab\"/></a>"
      ]
    },
    {
      "cell_type": "code",
      "metadata": {
        "id": "J7U1dwWWzY03",
        "colab_type": "code",
        "colab": {}
      },
      "source": [
        "from sas7bdat import SAS7BDAT\n",
        "import pandas as pd\n",
        "\n",
        "df = pd.read_stata('./DHS_Datasets/IAMR74DT/IAMR74FL.DTA', chunksize=10000)\n",
        "vstack = pd.DataFrame()\n",
        "for chunk in df:\n",
        "  stack1 = chunk['mcaseid']\n",
        "  stack2 = chunk['smb51']\n",
        "  stack3 = chunk['smb52']\n",
        "  stack4 = chunk['smb70']\n",
        "  hstack = pd.concat([stack1, stack2, stack3, stack4], axis=1)\n",
        "  vstack = pd.concat([vstack, hstack], axis=0)\n",
        "\n",
        "vstack.to_csv('./DiabetesIndiaDHSMales.csv', index=False)\n",
        "\n",
        "df = pd.read_stata('./DHS_Datasets/IAIR74DT/IAIR74FL.DTA', chunksize=10000)\n",
        "vstack = pd.DataFrame()\n",
        "counter = 0\n",
        "for chunk in df:\n",
        "  print (counter)\n",
        "  stack1 = chunk['caseid']\n",
        "  stack2 = chunk['sb51']\n",
        "  stack3 = chunk['sb52']\n",
        "  stack4 = chunk['sb70']\n",
        "  stack5 = chunk['v213']\n",
        "  hstack = pd.concat([stack1, stack2, stack3, stack4, stack5], axis=1)\n",
        "  vstack = pd.concat([vstack, hstack], axis=0)\n",
        "  counter += 1\n",
        "  \n",
        "vstack.to_csv('./DiabetesIndiaDHSFemales.csv', index=False)"
      ],
      "execution_count": 0,
      "outputs": []
    }
  ]
}